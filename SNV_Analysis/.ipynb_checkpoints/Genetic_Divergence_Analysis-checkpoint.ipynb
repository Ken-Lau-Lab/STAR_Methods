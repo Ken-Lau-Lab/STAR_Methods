{
 "cells": [
  {
   "cell_type": "markdown",
   "metadata": {},
   "source": [
    "### Perform genetic divergence analysis using the distance matrices output from DENDRO, and calculate the minimum distance between tumor and stem pseudoaggregates"
   ]
  },
  {
   "cell_type": "code",
   "execution_count": null,
   "metadata": {},
   "outputs": [],
   "source": [
    "#import libraries\n",
    "import pandas as pd\n",
    "import numpy as np\n",
    "import glob"
   ]
  },
  {
   "cell_type": "code",
   "execution_count": null,
   "metadata": {},
   "outputs": [],
   "source": [
    "target_mat = 'filename'"
   ]
  },
  {
   "cell_type": "code",
   "execution_count": null,
   "metadata": {},
   "outputs": [],
   "source": [
    "#read in matrix\n",
    "data = pd.read_csv(target_mat,index_col=0)\n",
    "data.columns = data.columns.astype(str)\n",
    "data.index = data.index.astype(str) "
   ]
  },
  {
   "cell_type": "code",
   "execution_count": null,
   "metadata": {},
   "outputs": [],
   "source": [
    "#annotate ASC and SSC populations for AD and SER samples, respectively, in addition to STM populations.\n",
    "#this can be done by applying Cell Type labels from the labeled cohort AnnData object.\n",
    "data['Type'][np.isin(data.index,np.array(['target_ASC_column_names']).astype(str))] = 'ASC'\n",
    "data['Type'][np.isin(data.index,np.array(['target_SSC_column_names']).astype(str))] = 'SSC'\n",
    "data['Type'][np.isin(data.index,np.array(['target_STM_column_names']).astype(str))] = 'STM'"
   ]
  },
  {
   "cell_type": "code",
   "execution_count": null,
   "metadata": {},
   "outputs": [],
   "source": [
    "#save annotated pseudoaggregates\n",
    "data.to_csv(matname+\"DENDRO_dist_annotated.csv\")"
   ]
  },
  {
   "cell_type": "code",
   "execution_count": null,
   "metadata": {},
   "outputs": [],
   "source": [
    "#read in list of annotated distance matrices as dist_list (not shown)"
   ]
  },
  {
   "cell_type": "code",
   "execution_count": null,
   "metadata": {},
   "outputs": [],
   "source": [
    "#iterate through list of annotated distance matrices\n",
    "output_list = []\n",
    "for element in dist_list:\n",
    "    test = element[0].copy()\n",
    "    max_dist = test.max().max() #get max value per distance matrix\n",
    "    stm_idx = test[test.Type == 'STM'] #locate STM pseudoaggregate\n",
    "    tumor_idx = test[(test.Type == 'ASC') | (test.Type == 'SSC')].index.values.astype(str) #locate ASC or SSC pseudoaggregates \n",
    "    min_dist = stm_idx[tumor_idx].min().min() #get min value per distance matrix\n",
    "    tumor_type = test.Type.value_counts().index[test.Type.value_counts().index!='STM'].values[0] #get tumor type for table\n",
    "    output_list.append([min_dist/max_dist,tumor_type,element[1]]) #output and append normalized value through min_dist/max_dist"
   ]
  },
  {
   "cell_type": "code",
   "execution_count": null,
   "metadata": {},
   "outputs": [],
   "source": [
    "out = pd.DataFrame(output_list)"
   ]
  },
  {
   "cell_type": "code",
   "execution_count": null,
   "metadata": {},
   "outputs": [],
   "source": [
    "out.to_csv(\"Tumor_Min_Genetic_Divergence_To_Stem.csv\")"
   ]
  }
 ],
 "metadata": {
  "kernelspec": {
   "display_name": "qc_pipe",
   "language": "python",
   "name": "qc_pipe"
  },
  "language_info": {
   "codemirror_mode": {
    "name": "ipython",
    "version": 3
   },
   "file_extension": ".py",
   "mimetype": "text/x-python",
   "name": "python",
   "nbconvert_exporter": "python",
   "pygments_lexer": "ipython3",
   "version": "3.8.5"
  }
 },
 "nbformat": 4,
 "nbformat_minor": 4
}
