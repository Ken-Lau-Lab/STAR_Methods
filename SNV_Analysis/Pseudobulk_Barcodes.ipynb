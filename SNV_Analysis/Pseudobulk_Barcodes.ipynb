{
 "cells": [
  {
   "cell_type": "markdown",
   "metadata": {},
   "source": [
    "### Defining Pseudobulk Groupings by Barcode "
   ]
  },
  {
   "cell_type": "code",
   "execution_count": null,
   "metadata": {},
   "outputs": [],
   "source": [
    "#Import libraries\n",
    "import scanpy as sc\n",
    "import numpy as np\n",
    "import pandas as pd\n",
    "from sklearn.cluster import KMeans\n",
    "import glob"
   ]
  },
  {
   "cell_type": "code",
   "execution_count": null,
   "metadata": {},
   "outputs": [],
   "source": [
    "#Set figure parameters\n",
    "sc.set_figure_params(dpi=200)"
   ]
  },
  {
   "cell_type": "code",
   "execution_count": null,
   "metadata": {},
   "outputs": [],
   "source": [
    "#Read in AUCell AnnData object containing UMAP coordinates in the .obsm attributes.\n",
    "aucell_regulon_anndata = sc.read_h5ad(\"aucell_regulon_anndata.h5ad\")"
   ]
  },
  {
   "cell_type": "code",
   "execution_count": null,
   "metadata": {},
   "outputs": [],
   "source": [
    "#Subset data to target a single batch associated with a .bam file\n",
    "target_batch = aucell_regulon_anndata[aucell_regulon_anndata.obs['Batch'] == 'target batch']"
   ]
  },
  {
   "cell_type": "code",
   "execution_count": null,
   "metadata": {},
   "outputs": [],
   "source": [
    "#Perform the KMeans clustering with 20 clusters and save as an observation column in subset object\n",
    "km = KMeans(n_clusters=20, random_state=56)\n",
    "km.fit(target_batch.obsm['X_umap'])\n",
    "target_batch.obs['KMeans'] = km.labels_.astype(str)"
   ]
  },
  {
   "cell_type": "code",
   "execution_count": null,
   "metadata": {},
   "outputs": [],
   "source": [
    "#Transfer labels onto main object that has UMAP coordinates\n",
    "aucell_regulon_anndata.obs['KMeans'] = target_batch.obs['KMeans']"
   ]
  },
  {
   "cell_type": "code",
   "execution_count": null,
   "metadata": {},
   "outputs": [],
   "source": [
    "#Plot UMAP with batch-specific KMeans labels, which will act as cell aggregates\n",
    "sc.pl.umap(aucell_regulon_anndata,color='KMeans',groups=list(np.arange(0,20).astype(str)),size=15,legend_loc='on data',legend_fontsize=10,legend_fontoutline=True)"
   ]
  },
  {
   "cell_type": "code",
   "execution_count": null,
   "metadata": {},
   "outputs": [],
   "source": [
    "#Subset barcodes and KMeans label for saving\n",
    "target_batch_out = pd.DataFrame(target_batch.obs[['KMeans']])"
   ]
  },
  {
   "cell_type": "code",
   "execution_count": null,
   "metadata": {},
   "outputs": [],
   "source": [
    "#Save barcodes and KMeans labels\n",
    "target_batch_out.to_csv('Pseudobulk_labels.csv')"
   ]
  }
 ],
 "metadata": {
  "kernelspec": {
   "display_name": "qc_pipe",
   "language": "python",
   "name": "qc_pipe"
  },
  "language_info": {
   "codemirror_mode": {
    "name": "ipython",
    "version": 3
   },
   "file_extension": ".py",
   "mimetype": "text/x-python",
   "name": "python",
   "nbconvert_exporter": "python",
   "pygments_lexer": "ipython3",
   "version": "3.8.5"
  }
 },
 "nbformat": 4,
 "nbformat_minor": 4
}
