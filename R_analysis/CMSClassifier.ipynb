{
 "cells": [
  {
   "cell_type": "markdown",
   "metadata": {},
   "source": [
    "### Import libraries"
   ]
  },
  {
   "cell_type": "code",
   "execution_count": 1,
   "metadata": {},
   "outputs": [
    {
     "name": "stderr",
     "output_type": "stream",
     "text": [
      "Loading required package: randomForest\n",
      "\n",
      "randomForest 4.6-14\n",
      "\n",
      "Type rfNews() to see new features/changes/bug fixes.\n",
      "\n"
     ]
    }
   ],
   "source": [
    "library(CMSclassifier)\n",
    "library(CMScaller)\n",
    "library(limma)\n",
    "library(hdf5r)"
   ]
  },
  {
   "cell_type": "markdown",
   "metadata": {},
   "source": [
    "### Initialize function to read in .h5ad data"
   ]
  },
  {
   "cell_type": "code",
   "execution_count": 6,
   "metadata": {},
   "outputs": [],
   "source": [
    "#This function uses hdf5r to interface with the .h5ad filetype output from scanpy\n",
    "prepare_data <- function(h5ad_in) {\n",
    "    data = h5file(h5ad_in)\n",
    "    data_x = data[['X']][,]\n",
    "    data_obs = data[['obs']][['_index']][] #Cells / _index, sometimes these attributes are saved as _index or Cells, replace as needed\n",
    "    data_var = data[['var']][['_index']][] #Genes / _index, sometimes these attributes are saved as _index or Genes, replace as needed\n",
    "    rownames(data_x) = data_var #set labels\n",
    "    colnames(data_x) = data_obs\n",
    "    return(data_x)\n",
    "}"
   ]
  },
  {
   "cell_type": "markdown",
   "metadata": {},
   "source": [
    "### Read in data and replace gene symbols with entrez IDs"
   ]
  },
  {
   "cell_type": "code",
   "execution_count": 10,
   "metadata": {},
   "outputs": [
    {
     "name": "stderr",
     "output_type": "stream",
     "text": [
      "18259/43078 rownames [NA.number] (no valid translation)\n",
      "\n",
      "0/43078 rownames [id.number] (translation gives duplicates)\n",
      "\n"
     ]
    }
   ],
   "source": [
    "data = replaceGeneId(prepare_data(\"../Broad_Data/colon10x_Epi_Tumor_refiltered_no_normal.h5ad\"), id.in='symbol', id.out=\"entrez\")"
   ]
  },
  {
   "cell_type": "markdown",
   "metadata": {},
   "source": [
    "### Prepare data and run CMS classification using single-sample predictor"
   ]
  },
  {
   "cell_type": "code",
   "execution_count": 13,
   "metadata": {},
   "outputs": [],
   "source": [
    "#Subset the data for only those with mappable entrez IDs within the CMS model\n",
    "subset_data = subset(data, rownames(data) %in% listModelGenes(\"SSP\"))"
   ]
  },
  {
   "cell_type": "code",
   "execution_count": 15,
   "metadata": {},
   "outputs": [],
   "source": [
    "#Normalize values according to CMSclassifier and CMScaller protocol\n",
    "subset_data_normalized <- limma::normalizeQuantiles(log2(subset_data+.25))"
   ]
  },
  {
   "cell_type": "code",
   "execution_count": 17,
   "metadata": {},
   "outputs": [],
   "source": [
    "#Run classification and output SSP scores\n",
    "SScms <- CMSclassifier::classifyCMS(subset_data_normalized,method=\"SSP\")[[3]]"
   ]
  },
  {
   "cell_type": "code",
   "execution_count": 20,
   "metadata": {},
   "outputs": [
    {
     "data": {
      "text/html": [
       "<table>\n",
       "<caption>A data.frame: 6 × 14</caption>\n",
       "<thead>\n",
       "\t<tr><th></th><th scope=col>SSP.min.corToCMS1</th><th scope=col>SSP.min.corToCMS2</th><th scope=col>SSP.min.corToCMS3</th><th scope=col>SSP.min.corToCMS4</th><th scope=col>SSP.median.corToCMS1</th><th scope=col>SSP.median.corToCMS2</th><th scope=col>SSP.median.corToCMS3</th><th scope=col>SSP.median.corToCMS4</th><th scope=col>SSP.max.corToCMS1</th><th scope=col>SSP.max.corToCMS2</th><th scope=col>SSP.max.corToCMS3</th><th scope=col>SSP.max.corToCMS4</th><th scope=col>SSP.nearestCMS</th><th scope=col>SSP.predictedCMS</th></tr>\n",
       "\t<tr><th></th><th scope=col>&lt;dbl&gt;</th><th scope=col>&lt;dbl&gt;</th><th scope=col>&lt;dbl&gt;</th><th scope=col>&lt;dbl&gt;</th><th scope=col>&lt;dbl&gt;</th><th scope=col>&lt;dbl&gt;</th><th scope=col>&lt;dbl&gt;</th><th scope=col>&lt;dbl&gt;</th><th scope=col>&lt;dbl&gt;</th><th scope=col>&lt;dbl&gt;</th><th scope=col>&lt;dbl&gt;</th><th scope=col>&lt;dbl&gt;</th><th scope=col>&lt;chr&gt;</th><th scope=col>&lt;chr&gt;</th></tr>\n",
       "</thead>\n",
       "<tbody>\n",
       "\t<tr><th scope=row>GATGTAGTTTAAACGCCT-3</th><td> 0.008044251</td><td>-0.11792792</td><td>0.3153605</td><td>-0.2583123</td><td> 0.07656679</td><td>-0.112010782</td><td>0.3925024</td><td>-0.2064130</td><td>0.11566034</td><td>-0.05725190</td><td>0.4414273</td><td>-0.17108690</td><td>CMS3</td><td>CMS3</td></tr>\n",
       "\t<tr><th scope=row>AACCTGACTTGCATAT-3</th><td>-0.070948107</td><td> 0.01869697</td><td>0.1926658</td><td>-0.2172093</td><td>-0.03659633</td><td> 0.036398190</td><td>0.2569164</td><td>-0.1986609</td><td>0.01296089</td><td> 0.06887815</td><td>0.2635608</td><td>-0.12127642</td><td>CMS3</td><td>CMS3</td></tr>\n",
       "\t<tr><th scope=row>CCAACCGTAAACTCGA-3</th><td> 0.019962228</td><td>-0.07161556</td><td>0.2041007</td><td>-0.2093783</td><td> 0.07103005</td><td>-0.066670551</td><td>0.2583983</td><td>-0.1668311</td><td>0.11157239</td><td>-0.03878854</td><td>0.3144507</td><td>-0.14138274</td><td>CMS3</td><td>CMS3</td></tr>\n",
       "\t<tr><th scope=row>TGAACTAGCCAGTCCAAAG-3</th><td> 0.022274911</td><td>-0.09121392</td><td>0.2063515</td><td>-0.1911201</td><td> 0.07326977</td><td>-0.080381143</td><td>0.2554334</td><td>-0.1314142</td><td>0.12295705</td><td>-0.05250844</td><td>0.2650384</td><td>-0.08964501</td><td>CMS3</td><td>CMS3</td></tr>\n",
       "\t<tr><th scope=row>TGAGGGAAATCATTGGGCC-3</th><td>-0.063886517</td><td>-0.01213462</td><td>0.2251656</td><td>-0.2164686</td><td>-0.01340275</td><td>-0.004580135</td><td>0.2695236</td><td>-0.1753150</td><td>0.03763653</td><td> 0.03211592</td><td>0.2920198</td><td>-0.11777471</td><td>CMS3</td><td>CMS3</td></tr>\n",
       "\t<tr><th scope=row>TCCAGGGAACTAGCCA-3</th><td> 0.003532066</td><td>-0.09111382</td><td>0.2516898</td><td>-0.2183364</td><td> 0.05583372</td><td>-0.082175614</td><td>0.3054318</td><td>-0.1554695</td><td>0.11482162</td><td>-0.05067024</td><td>0.3282224</td><td>-0.09646975</td><td>CMS3</td><td>CMS3</td></tr>\n",
       "</tbody>\n",
       "</table>\n"
      ],
      "text/latex": [
       "A data.frame: 6 × 14\n",
       "\\begin{tabular}{r|llllllllllllll}\n",
       "  & SSP.min.corToCMS1 & SSP.min.corToCMS2 & SSP.min.corToCMS3 & SSP.min.corToCMS4 & SSP.median.corToCMS1 & SSP.median.corToCMS2 & SSP.median.corToCMS3 & SSP.median.corToCMS4 & SSP.max.corToCMS1 & SSP.max.corToCMS2 & SSP.max.corToCMS3 & SSP.max.corToCMS4 & SSP.nearestCMS & SSP.predictedCMS\\\\\n",
       "  & <dbl> & <dbl> & <dbl> & <dbl> & <dbl> & <dbl> & <dbl> & <dbl> & <dbl> & <dbl> & <dbl> & <dbl> & <chr> & <chr>\\\\\n",
       "\\hline\n",
       "\tGATGTAGTTTAAACGCCT-3 &  0.008044251 & -0.11792792 & 0.3153605 & -0.2583123 &  0.07656679 & -0.112010782 & 0.3925024 & -0.2064130 & 0.11566034 & -0.05725190 & 0.4414273 & -0.17108690 & CMS3 & CMS3\\\\\n",
       "\tAACCTGACTTGCATAT-3 & -0.070948107 &  0.01869697 & 0.1926658 & -0.2172093 & -0.03659633 &  0.036398190 & 0.2569164 & -0.1986609 & 0.01296089 &  0.06887815 & 0.2635608 & -0.12127642 & CMS3 & CMS3\\\\\n",
       "\tCCAACCGTAAACTCGA-3 &  0.019962228 & -0.07161556 & 0.2041007 & -0.2093783 &  0.07103005 & -0.066670551 & 0.2583983 & -0.1668311 & 0.11157239 & -0.03878854 & 0.3144507 & -0.14138274 & CMS3 & CMS3\\\\\n",
       "\tTGAACTAGCCAGTCCAAAG-3 &  0.022274911 & -0.09121392 & 0.2063515 & -0.1911201 &  0.07326977 & -0.080381143 & 0.2554334 & -0.1314142 & 0.12295705 & -0.05250844 & 0.2650384 & -0.08964501 & CMS3 & CMS3\\\\\n",
       "\tTGAGGGAAATCATTGGGCC-3 & -0.063886517 & -0.01213462 & 0.2251656 & -0.2164686 & -0.01340275 & -0.004580135 & 0.2695236 & -0.1753150 & 0.03763653 &  0.03211592 & 0.2920198 & -0.11777471 & CMS3 & CMS3\\\\\n",
       "\tTCCAGGGAACTAGCCA-3 &  0.003532066 & -0.09111382 & 0.2516898 & -0.2183364 &  0.05583372 & -0.082175614 & 0.3054318 & -0.1554695 & 0.11482162 & -0.05067024 & 0.3282224 & -0.09646975 & CMS3 & CMS3\\\\\n",
       "\\end{tabular}\n"
      ],
      "text/markdown": [
       "\n",
       "A data.frame: 6 × 14\n",
       "\n",
       "| <!--/--> | SSP.min.corToCMS1 &lt;dbl&gt; | SSP.min.corToCMS2 &lt;dbl&gt; | SSP.min.corToCMS3 &lt;dbl&gt; | SSP.min.corToCMS4 &lt;dbl&gt; | SSP.median.corToCMS1 &lt;dbl&gt; | SSP.median.corToCMS2 &lt;dbl&gt; | SSP.median.corToCMS3 &lt;dbl&gt; | SSP.median.corToCMS4 &lt;dbl&gt; | SSP.max.corToCMS1 &lt;dbl&gt; | SSP.max.corToCMS2 &lt;dbl&gt; | SSP.max.corToCMS3 &lt;dbl&gt; | SSP.max.corToCMS4 &lt;dbl&gt; | SSP.nearestCMS &lt;chr&gt; | SSP.predictedCMS &lt;chr&gt; |\n",
       "|---|---|---|---|---|---|---|---|---|---|---|---|---|---|---|\n",
       "| GATGTAGTTTAAACGCCT-3 |  0.008044251 | -0.11792792 | 0.3153605 | -0.2583123 |  0.07656679 | -0.112010782 | 0.3925024 | -0.2064130 | 0.11566034 | -0.05725190 | 0.4414273 | -0.17108690 | CMS3 | CMS3 |\n",
       "| AACCTGACTTGCATAT-3 | -0.070948107 |  0.01869697 | 0.1926658 | -0.2172093 | -0.03659633 |  0.036398190 | 0.2569164 | -0.1986609 | 0.01296089 |  0.06887815 | 0.2635608 | -0.12127642 | CMS3 | CMS3 |\n",
       "| CCAACCGTAAACTCGA-3 |  0.019962228 | -0.07161556 | 0.2041007 | -0.2093783 |  0.07103005 | -0.066670551 | 0.2583983 | -0.1668311 | 0.11157239 | -0.03878854 | 0.3144507 | -0.14138274 | CMS3 | CMS3 |\n",
       "| TGAACTAGCCAGTCCAAAG-3 |  0.022274911 | -0.09121392 | 0.2063515 | -0.1911201 |  0.07326977 | -0.080381143 | 0.2554334 | -0.1314142 | 0.12295705 | -0.05250844 | 0.2650384 | -0.08964501 | CMS3 | CMS3 |\n",
       "| TGAGGGAAATCATTGGGCC-3 | -0.063886517 | -0.01213462 | 0.2251656 | -0.2164686 | -0.01340275 | -0.004580135 | 0.2695236 | -0.1753150 | 0.03763653 |  0.03211592 | 0.2920198 | -0.11777471 | CMS3 | CMS3 |\n",
       "| TCCAGGGAACTAGCCA-3 |  0.003532066 | -0.09111382 | 0.2516898 | -0.2183364 |  0.05583372 | -0.082175614 | 0.3054318 | -0.1554695 | 0.11482162 | -0.05067024 | 0.3282224 | -0.09646975 | CMS3 | CMS3 |\n",
       "\n"
      ],
      "text/plain": [
       "                      SSP.min.corToCMS1 SSP.min.corToCMS2 SSP.min.corToCMS3\n",
       "GATGTAGTTTAAACGCCT-3   0.008044251      -0.11792792       0.3153605        \n",
       "AACCTGACTTGCATAT-3    -0.070948107       0.01869697       0.1926658        \n",
       "CCAACCGTAAACTCGA-3     0.019962228      -0.07161556       0.2041007        \n",
       "TGAACTAGCCAGTCCAAAG-3  0.022274911      -0.09121392       0.2063515        \n",
       "TGAGGGAAATCATTGGGCC-3 -0.063886517      -0.01213462       0.2251656        \n",
       "TCCAGGGAACTAGCCA-3     0.003532066      -0.09111382       0.2516898        \n",
       "                      SSP.min.corToCMS4 SSP.median.corToCMS1\n",
       "GATGTAGTTTAAACGCCT-3  -0.2583123         0.07656679         \n",
       "AACCTGACTTGCATAT-3    -0.2172093        -0.03659633         \n",
       "CCAACCGTAAACTCGA-3    -0.2093783         0.07103005         \n",
       "TGAACTAGCCAGTCCAAAG-3 -0.1911201         0.07326977         \n",
       "TGAGGGAAATCATTGGGCC-3 -0.2164686        -0.01340275         \n",
       "TCCAGGGAACTAGCCA-3    -0.2183364         0.05583372         \n",
       "                      SSP.median.corToCMS2 SSP.median.corToCMS3\n",
       "GATGTAGTTTAAACGCCT-3  -0.112010782         0.3925024           \n",
       "AACCTGACTTGCATAT-3     0.036398190         0.2569164           \n",
       "CCAACCGTAAACTCGA-3    -0.066670551         0.2583983           \n",
       "TGAACTAGCCAGTCCAAAG-3 -0.080381143         0.2554334           \n",
       "TGAGGGAAATCATTGGGCC-3 -0.004580135         0.2695236           \n",
       "TCCAGGGAACTAGCCA-3    -0.082175614         0.3054318           \n",
       "                      SSP.median.corToCMS4 SSP.max.corToCMS1 SSP.max.corToCMS2\n",
       "GATGTAGTTTAAACGCCT-3  -0.2064130           0.11566034        -0.05725190      \n",
       "AACCTGACTTGCATAT-3    -0.1986609           0.01296089         0.06887815      \n",
       "CCAACCGTAAACTCGA-3    -0.1668311           0.11157239        -0.03878854      \n",
       "TGAACTAGCCAGTCCAAAG-3 -0.1314142           0.12295705        -0.05250844      \n",
       "TGAGGGAAATCATTGGGCC-3 -0.1753150           0.03763653         0.03211592      \n",
       "TCCAGGGAACTAGCCA-3    -0.1554695           0.11482162        -0.05067024      \n",
       "                      SSP.max.corToCMS3 SSP.max.corToCMS4 SSP.nearestCMS\n",
       "GATGTAGTTTAAACGCCT-3  0.4414273         -0.17108690       CMS3          \n",
       "AACCTGACTTGCATAT-3    0.2635608         -0.12127642       CMS3          \n",
       "CCAACCGTAAACTCGA-3    0.3144507         -0.14138274       CMS3          \n",
       "TGAACTAGCCAGTCCAAAG-3 0.2650384         -0.08964501       CMS3          \n",
       "TGAGGGAAATCATTGGGCC-3 0.2920198         -0.11777471       CMS3          \n",
       "TCCAGGGAACTAGCCA-3    0.3282224         -0.09646975       CMS3          \n",
       "                      SSP.predictedCMS\n",
       "GATGTAGTTTAAACGCCT-3  CMS3            \n",
       "AACCTGACTTGCATAT-3    CMS3            \n",
       "CCAACCGTAAACTCGA-3    CMS3            \n",
       "TGAACTAGCCAGTCCAAAG-3 CMS3            \n",
       "TGAGGGAAATCATTGGGCC-3 CMS3            \n",
       "TCCAGGGAACTAGCCA-3    CMS3            "
      ]
     },
     "metadata": {},
     "output_type": "display_data"
    }
   ],
   "source": [
    "head(SScms)"
   ]
  },
  {
   "cell_type": "code",
   "execution_count": 19,
   "metadata": {},
   "outputs": [],
   "source": [
    "#Save values, typically use median values\n",
    "write.csv(SScms,\"SScms.csv\")"
   ]
  }
 ],
 "metadata": {
  "kernelspec": {
   "display_name": "R",
   "language": "R",
   "name": "ir"
  },
  "language_info": {
   "codemirror_mode": "r",
   "file_extension": ".r",
   "mimetype": "text/x-r-source",
   "name": "R",
   "pygments_lexer": "r",
   "version": "4.0.2"
  }
 },
 "nbformat": 4,
 "nbformat_minor": 4
}
