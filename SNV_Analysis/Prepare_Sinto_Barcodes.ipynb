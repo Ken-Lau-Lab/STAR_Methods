{
 "cells": [
  {
   "cell_type": "markdown",
   "metadata": {},
   "source": [
    "### Prepping BAM split by KMeans label and barcode"
   ]
  },
  {
   "cell_type": "code",
   "execution_count": 1,
   "metadata": {},
   "outputs": [],
   "source": [
    "#import libraries\n",
    "import sinto\n",
    "import glob\n",
    "import os\n",
    "import re\n",
    "import pandas as pd"
   ]
  },
  {
   "cell_type": "code",
   "execution_count": 15,
   "metadata": {},
   "outputs": [],
   "source": [
    "#read in list of target KMeans barcode files\n",
    "targets = glob.glob(\"Target_KMeans_barcodes/*.csv\")"
   ]
  },
  {
   "cell_type": "code",
   "execution_count": 18,
   "metadata": {},
   "outputs": [],
   "source": [
    "#convert the .csv form barcode lists into .txt, compatible with sinto\n",
    "for element in targets:\n",
    "    bcs = pd.read_csv(element,sep=',',header=0,index_col=0) \n",
    "    bcs.index = bcs.index.str.strip('-0123456789') #strip any barcode suffixes\n",
    "    bcs['KMeans']=element.replace(\"_bc.csv\",\"\").replace(\"Target_KMeans_barcodes/\",\"\")+\"_\"+bcs['KMeans'].astype(str)\n",
    "    bcs.to_csv(element.replace(\".csv\",\"\")+'.txt',header=None,sep='\\t') #save text files"
   ]
  }
 ],
 "metadata": {
  "kernelspec": {
   "display_name": "gatk",
   "language": "python",
   "name": "gatk"
  },
  "language_info": {
   "codemirror_mode": {
    "name": "ipython",
    "version": 3
   },
   "file_extension": ".py",
   "mimetype": "text/x-python",
   "name": "python",
   "nbconvert_exporter": "python",
   "pygments_lexer": "ipython3",
   "version": "3.6.10"
  }
 },
 "nbformat": 4,
 "nbformat_minor": 4
}
