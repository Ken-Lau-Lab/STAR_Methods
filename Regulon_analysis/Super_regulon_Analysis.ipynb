{
 "cells": [
  {
   "cell_type": "markdown",
   "metadata": {},
   "source": [
    "### Import libraries, note that we need both pySCENIC and scanpy libraries here"
   ]
  },
  {
   "cell_type": "code",
   "execution_count": null,
   "metadata": {},
   "outputs": [],
   "source": [
    "import scanpy as sc\n",
    "import pandas as pd\n",
    "import numpy as np\n",
    "import os, glob\n",
    "import pickle\n",
    "from arboreto.utils import load_tf_names\n",
    "from arboreto.algo import grnboost2\n",
    "from pyscenic.rnkdb import FeatherRankingDatabase as RankingDatabase\n",
    "from pyscenic.utils import modules_from_adjacencies\n",
    "from pyscenic.prune import prune2df, df2regulons\n",
    "from pyscenic.aucell import aucell"
   ]
  },
  {
   "cell_type": "markdown",
   "metadata": {},
   "source": [
    "### Load in regulons"
   ]
  },
  {
   "cell_type": "code",
   "execution_count": null,
   "metadata": {},
   "outputs": [],
   "source": [
    "with open(\"Regulons.p\", 'rb') as f:\n",
    "    regulons = pickle.load(f)"
   ]
  },
  {
   "cell_type": "markdown",
   "metadata": {},
   "source": [
    "### Iteratively extract regulon gene weights and generate a feature matrix where regulons are observations and their target genes are features"
   ]
  },
  {
   "cell_type": "code",
   "execution_count": null,
   "metadata": {},
   "outputs": [],
   "source": [
    "reg_df_list = []\n",
    "score_list = []\n",
    "for reg in regulons:\n",
    "    print('processing '+ reg.name)\n",
    "    reg_df_list.append(pd.DataFrame.from_dict(reg.gene2weight, orient='index',columns=[reg.name]))\n",
    "    score_list.append(dict({reg.name:reg.score}))\n",
    "reg_df = pd.concat(reg_df_list,sort=True,axis=1)\n",
    "reg_df = reg_df.fillna(0)"
   ]
  },
  {
   "cell_type": "markdown",
   "metadata": {},
   "source": [
    "### Binarize this feature matrix and generate adjacency matrix through scanpy functions"
   ]
  },
  {
   "cell_type": "code",
   "execution_count": null,
   "metadata": {},
   "outputs": [],
   "source": [
    "reg_df = reg_df.astype(bool).astype(int) #Binarize predicted regulon target genes "
   ]
  },
  {
   "cell_type": "code",
   "execution_count": null,
   "metadata": {},
   "outputs": [],
   "source": [
    "reg_adata = sc.AnnData(reg_df.T) \n",
    "reg_adata.obs.index = reg_adata.obs.index.str.strip(\"(+)\")\n",
    "reg_adata.raw = reg_adata"
   ]
  },
  {
   "cell_type": "markdown",
   "metadata": {},
   "source": [
    "### Decompose regulon feature matrix and calculate KNN based on the square root of the number of total regulons"
   ]
  },
  {
   "cell_type": "code",
   "execution_count": null,
   "metadata": {},
   "outputs": [],
   "source": [
    "sc.pp.pca(reg_adata)\n",
    "sc.pp.neighbors(reg_adata,n_neighbors=np.sqrt(reg_adata.n_obs).astype(int))"
   ]
  },
  {
   "cell_type": "code",
   "execution_count": null,
   "metadata": {},
   "outputs": [],
   "source": [
    "conn = pd.DataFrame(reg_adata.obsp['connectivities'].toarray())\n",
    "conn.columns=reg_adata.obs.index\n",
    "conn.index=reg_adata.obs.index"
   ]
  },
  {
   "cell_type": "markdown",
   "metadata": {},
   "source": [
    "### Save adjacency matrix, this is the cumulative regulon network, given predicted downstream gene targets"
   ]
  },
  {
   "cell_type": "code",
   "execution_count": null,
   "metadata": {},
   "outputs": [],
   "source": [
    "conn.to_csv(\"Binarized_Regulon_Network.csv\")"
   ]
  },
  {
   "cell_type": "markdown",
   "metadata": {},
   "source": [
    "### Define super-regulons through the louvain algorithm"
   ]
  },
  {
   "cell_type": "code",
   "execution_count": null,
   "metadata": {},
   "outputs": [],
   "source": [
    "sc.tl.louvain(reg_adata,resolution=2)"
   ]
  },
  {
   "cell_type": "code",
   "execution_count": null,
   "metadata": {},
   "outputs": [],
   "source": [
    "reg_adata.obs['louvain'].to_csv(\"Binarized_Regulon_Network_Super_regulons.csv\")"
   ]
  },
  {
   "cell_type": "markdown",
   "metadata": {},
   "source": [
    "### The visualization of these networks is done in Cytoscape, with color values extracted from scaled AUCell value heatmaps"
   ]
  },
  {
   "cell_type": "code",
   "execution_count": null,
   "metadata": {},
   "outputs": [],
   "source": [
    "#Generate dotplot using target AUCell data\n",
    "dp = sc.pl.dotplot(data_aucell,var_names=['target regulons'],groupby='cell type',dendrogram=False,standard_scale='var',use_raw=False,var_group_rotation=0,swap_axes=False,return_fig=True)\n",
    "dp.style(cmap='RdYlBu_r',color_on='square',dot_edge_color=None,dot_edge_lw=1).show()"
   ]
  },
  {
   "cell_type": "code",
   "execution_count": null,
   "metadata": {},
   "outputs": [],
   "source": [
    "#Retrieve scaled values from 0 to 1 given the generated dotplot, Cytoscape uses these values given a colormap\n",
    "dp.dot_color_df"
   ]
  }
 ],
 "metadata": {
  "kernelspec": {
   "display_name": "scenic_cistarget",
   "language": "python",
   "name": "scenic_cistarget"
  },
  "language_info": {
   "codemirror_mode": {
    "name": "ipython",
    "version": 3
   },
   "file_extension": ".py",
   "mimetype": "text/x-python",
   "name": "python",
   "nbconvert_exporter": "python",
   "pygments_lexer": "ipython3",
   "version": "3.8.5"
  }
 },
 "nbformat": 4,
 "nbformat_minor": 4
}
