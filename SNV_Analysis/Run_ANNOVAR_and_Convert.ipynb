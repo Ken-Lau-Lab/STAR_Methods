{
 "cells": [
  {
   "cell_type": "markdown",
   "metadata": {},
   "source": [
    "### Run Annovar and convert output .vcf into readable .csv"
   ]
  },
  {
   "cell_type": "code",
   "execution_count": 1,
   "metadata": {},
   "outputs": [],
   "source": [
    "#Import libraries\n",
    "import glob\n",
    "import pandas as pd\n",
    "from queue import Queue\n",
    "import threading\n",
    "import sys\n",
    "import subprocess\n",
    "import os"
   ]
  },
  {
   "cell_type": "code",
   "execution_count": null,
   "metadata": {},
   "outputs": [],
   "source": [
    "target_dir = 'Example_library_0'"
   ]
  },
  {
   "cell_type": "code",
   "execution_count": null,
   "metadata": {},
   "outputs": [],
   "source": [
    "#run the perl script\n",
    "subprocess.check_call(['./GATK4_Run_ANNOVAR.sh', target_dir])"
   ]
  },
  {
   "cell_type": "code",
   "execution_count": 26,
   "metadata": {},
   "outputs": [],
   "source": [
    "data_test = pd.read_csv(\"Example_library_0_Split_KMeans20_avsnp.hg38_multianno.vcf\",sep='\\t',skiprows=240) #cut off first 240 rows of run information, etc.\n",
    "data_test.to_csv(\"Example_library_0_Split_KMeans20_avsnp.hg38_multianno.csv\")"
   ]
  }
 ],
 "metadata": {
  "kernelspec": {
   "display_name": "gatk",
   "language": "python",
   "name": "gatk"
  },
  "language_info": {
   "codemirror_mode": {
    "name": "ipython",
    "version": 3
   },
   "file_extension": ".py",
   "mimetype": "text/x-python",
   "name": "python",
   "nbconvert_exporter": "python",
   "pygments_lexer": "ipython3",
   "version": "3.6.10"
  }
 },
 "nbformat": 4,
 "nbformat_minor": 4
}
