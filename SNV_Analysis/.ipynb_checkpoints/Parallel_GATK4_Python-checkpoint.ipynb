{
 "cells": [
  {
   "cell_type": "markdown",
   "metadata": {},
   "source": [
    "### Run GATK4 pipeline for several of the split BAM files in parallel, corresponding to each pseudobulk cell aggregate per sample"
   ]
  },
  {
   "cell_type": "code",
   "execution_count": 1,
   "metadata": {},
   "outputs": [],
   "source": [
    "#import librareis\n",
    "import glob\n",
    "import pandas as pd\n",
    "from queue import Queue\n",
    "import threading\n",
    "import sys\n",
    "import subprocess\n",
    "import os"
   ]
  },
  {
   "cell_type": "markdown",
   "metadata": {},
   "source": [
    "This pipeline is split up into 2 major steps, using 2 different .sh bash files due to potential RAM constraints during the parallelization of 10-20 processes."
   ]
  },
  {
   "cell_type": "markdown",
   "metadata": {},
   "source": [
    "### Start pipeline up to BSQR/base quality score recalibration step, using GATK4_pipe_to_BSQR.sh in parallel"
   ]
  },
  {
   "cell_type": "code",
   "execution_count": null,
   "metadata": {
    "collapsed": true,
    "jupyter": {
     "outputs_hidden": true
    }
   },
   "outputs": [
    {
     "name": "stdout",
     "output_type": "stream",
     "text": [
      "0 ...\n",
      "1 ...\n",
      "2 ...\n",
      "3 ...\n",
      "4 ...\n",
      "5 ...6 ...\n",
      "7 ...\n",
      "\n",
      "8 ...\n",
      "9 ...\n",
      "10 ...\n",
      "11 ...\n",
      "12 ...\n",
      "13 ...\n",
      "14 ...\n",
      "15 ...\n",
      "16 ...\n",
      "17 ...\n",
      "18 ...\n",
      "19 ...\n"
     ]
    }
   ],
   "source": [
    "target_dir = 'Example_library_0'\n",
    "bam_list = list(pd.Series([os.path.basename(x) for x in glob.glob(target_dir+'/*.bam')]).str.strip(\".bam\")) #read in split bam file list corresponding to target\n",
    "\n",
    "def worker():\n",
    "    while True:\n",
    "        (idx, item) = q.get()\n",
    "        print(idx,\"...\")\n",
    "        subprocess.check_call(['./GATK4_pipe_to_BSQR.sh', target_dir, item])\n",
    "        q.task_done()\n",
    "q = Queue()\n",
    "num_worker_threads = 10 #10 processes may use around 60-80GB of RAM\n",
    "for i in range(num_worker_threads):\n",
    "     t = threading.Thread(target=worker)\n",
    "     t.daemon = True\n",
    "     t.start()\n",
    "for idx, item in enumerate(bam_list):\n",
    "    q.put((idx, item))\n",
    "q.join()"
   ]
  },
  {
   "cell_type": "markdown",
   "metadata": {},
   "source": [
    "### Finish pipeline with Haplotypecaller, using GATK4_pipe_Haplotype.sh in parallel"
   ]
  },
  {
   "cell_type": "code",
   "execution_count": null,
   "metadata": {
    "collapsed": true,
    "jupyter": {
     "outputs_hidden": true
    }
   },
   "outputs": [
    {
     "name": "stdout",
     "output_type": "stream",
     "text": [
      "0 ...\n",
      "1 ...\n",
      "2 ...\n",
      "3 ...\n",
      "4 ...\n",
      "5 ...6 ...\n",
      "7 ...\n",
      "\n",
      "8 ...\n",
      "9 ...\n",
      "10 ...\n",
      "11 ...\n",
      "12 ...\n",
      "13 ...\n",
      "14 ...\n",
      "15 ...\n",
      "16 ...\n",
      "17 ...\n",
      "18 ...\n",
      "19 ...\n"
     ]
    }
   ],
   "source": [
    "target_dir = 'Example_library_0'\n",
    "bam_list = list(pd.Series([os.path.basename(x) for x in glob.glob(target_dir+'/*.bam')]).str.strip(\".bam\")) #read in split bam file list corresponding to target\n",
    "\n",
    "def worker():\n",
    "    while True:\n",
    "        (idx, item) = q.get()\n",
    "        print(idx,\"...\")\n",
    "        subprocess.check_call(['./GATK4_pipe_Haplotype.sh', target_dir, item])\n",
    "        q.task_done()\n",
    "q = Queue()\n",
    "num_worker_threads = 10 #10 processes may use around 60-80GB of RAM\n",
    "for i in range(num_worker_threads):\n",
    "     t = threading.Thread(target=worker)\n",
    "     t.daemon = True\n",
    "     t.start()\n",
    "for idx, item in enumerate(bam_list):\n",
    "    q.put((idx, item))\n",
    "q.join()"
   ]
  }
 ],
 "metadata": {
  "kernelspec": {
   "display_name": "gatk",
   "language": "python",
   "name": "gatk"
  },
  "language_info": {
   "codemirror_mode": {
    "name": "ipython",
    "version": 3
   },
   "file_extension": ".py",
   "mimetype": "text/x-python",
   "name": "python",
   "nbconvert_exporter": "python",
   "pygments_lexer": "ipython3",
   "version": "3.6.10"
  }
 },
 "nbformat": 4,
 "nbformat_minor": 4
}
